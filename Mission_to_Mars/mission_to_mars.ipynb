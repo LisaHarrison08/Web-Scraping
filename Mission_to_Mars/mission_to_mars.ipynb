{
 "cells": [
  {
   "cell_type": "markdown",
   "metadata": {},
   "source": [
    "# Mission to Mars"
   ]
  },
  {
   "cell_type": "code",
   "execution_count": 1,
   "metadata": {},
   "outputs": [],
   "source": [
    "#Dependencies\n",
    "from splinter import Browser\n",
    "from splinter.exceptions import ElementDoesNotExist\n",
    "from bs4 import BeautifulSoup\n",
    "import pandas as pd\n",
    "import requests\n",
    "import time"
   ]
  },
  {
   "cell_type": "markdown",
   "metadata": {},
   "source": [
    "# Mac Users"
   ]
  },
  {
   "cell_type": "code",
   "execution_count": 2,
   "metadata": {},
   "outputs": [],
   "source": [
    "executable_path = {'executable_path': '/usr/local/bin/chromedriver'}\n",
    "browser = Browser('chrome', **executable_path, headless=False)"
   ]
  },
  {
   "cell_type": "markdown",
   "metadata": {},
   "source": [
    "# Windows Users"
   ]
  },
  {
   "cell_type": "code",
   "execution_count": 3,
   "metadata": {},
   "outputs": [],
   "source": [
    "# executable_path = {'executable_path': 'chromedriver.exe'}\n",
    "# browser = Browser('chrome', **executable_path, headless=False)"
   ]
  },
  {
   "cell_type": "markdown",
   "metadata": {},
   "source": [
    "## NASA Mars News"
   ]
  },
  {
   "cell_type": "code",
   "execution_count": 4,
   "metadata": {},
   "outputs": [],
   "source": [
    "url = 'https://mars.nasa.gov/news/'\n",
    "browser.visit(url)"
   ]
  },
  {
   "cell_type": "code",
   "execution_count": 5,
   "metadata": {},
   "outputs": [],
   "source": [
    "# Create BeautifulSoup object; parse with 'html.parser'\n",
    "html = browser.html\n",
    "soup = BeautifulSoup(html,'html.parser')"
   ]
  },
  {
   "cell_type": "code",
   "execution_count": 6,
   "metadata": {},
   "outputs": [
    {
     "data": {
      "text/plain": [
       "'Mars Now'"
      ]
     },
     "execution_count": 6,
     "metadata": {},
     "output_type": "execute_result"
    }
   ],
   "source": [
    "# Prints title of the drop down menu\n",
    "title = soup.find('div', class_='content_title').text\n",
    "title"
   ]
  },
  {
   "cell_type": "code",
   "execution_count": 7,
   "metadata": {},
   "outputs": [
    {
     "data": {
      "text/plain": [
       "'The Red Planet'"
      ]
     },
     "execution_count": 7,
     "metadata": {},
     "output_type": "execute_result"
    }
   ],
   "source": [
    "# Prints a navigation title in drop down menu\n",
    "new_title = soup.find('a', target='_self').text\n",
    "new_title"
   ]
  },
  {
   "cell_type": "code",
   "execution_count": 8,
   "metadata": {},
   "outputs": [],
   "source": [
    "### The following does not identify text wrapped within anchor tag\n",
    "# latest_title = soup.find('div', class_='content_title').find('a').text\n",
    "# latest_title"
   ]
  },
  {
   "cell_type": "code",
   "execution_count": 9,
   "metadata": {},
   "outputs": [
    {
     "name": "stdout",
     "output_type": "stream",
     "text": [
      "The latest news title: NASA's New Mars Rover Is Ready for Space Lasers\n"
     ]
    }
   ],
   "source": [
    "# Extract the latest News Title and Paragraph - # Prints the latest news title but from the class 'bottom gradient'\n",
    "news_title = soup.find('div', class_='bottom_gradient').text\n",
    "print(f'The latest news title: {news_title}')"
   ]
  },
  {
   "cell_type": "code",
   "execution_count": 10,
   "metadata": {},
   "outputs": [
    {
     "data": {
      "text/plain": [
       "\"NASA's New Mars Rover Is Ready for Space Lasers\""
      ]
     },
     "execution_count": 10,
     "metadata": {},
     "output_type": "execute_result"
    }
   ],
   "source": [
    "news_title = browser.find_by_css('.grid_gallery.list_view .content_title a').text\n",
    "news_title"
   ]
  },
  {
   "cell_type": "code",
   "execution_count": 11,
   "metadata": {},
   "outputs": [
    {
     "name": "stdout",
     "output_type": "stream",
     "text": [
      "The latest news paragraph: Perseverance is one of a few Mars spacecraft carrying laser retroreflectors. The devices could provide new science and safer Mars landings in the future.\n"
     ]
    }
   ],
   "source": [
    "# Extract the latest News Title and Paragraph\n",
    "news_p = soup.find('div', class_='article_teaser_body').text\n",
    "print(f'The latest news paragraph: {news_p}')"
   ]
  },
  {
   "cell_type": "code",
   "execution_count": 12,
   "metadata": {},
   "outputs": [
    {
     "data": {
      "text/plain": [
       "'Perseverance is one of a few Mars spacecraft carrying laser retroreflectors. The devices could provide new science and safer Mars landings in the future.NASA\\'s New Mars Rover Is Ready for Space LasersSeptember 28, 2020NASA\\'s New Mars Rover Is Ready for Space LasersPerseverance is one of a few Mars spacecraft carrying laser retroreflectors. The devices could provide new science and safer Mars landings in the future.PIXL, an instrument on the end of the Perseverance rover\\'s arm, will search for chemical fingerprints left by ancient microbes.NASA\\'s New Mars Rover Will Use X-Rays to Hunt FossilsSeptember 22, 2020NASA\\'s New Mars Rover Will Use X-Rays to Hunt FossilsPIXL, an instrument on the end of the Perseverance rover\\'s arm, will search for chemical fingerprints left by ancient microbes.In honor of Hispanic Heritage Month, Christina Hernandez, an instrument engineer on the Mars 2020 mission, talks about her childhood and journey to NASA.My Culture, My VoiceSeptember 16, 2020My Culture, My VoiceIn honor of Hispanic Heritage Month, Christina Hernandez, an instrument engineer on the Mars 2020 mission, talks about her childhood and journey to NASA.Did you know NASA\\'s next Mars rover has a nearly identical sibling on Earth for testing? Even better, it\\'s about to roll for the first time through a replica Martian landscape.NASA Readies Perseverance Mars Rover\\'s Earthly Twin September  4, 2020NASA Readies Perseverance Mars Rover\\'s Earthly Twin Did you know NASA\\'s next Mars rover has a nearly identical sibling on Earth for testing? Even better, it\\'s about to roll for the first time through a replica Martian landscape.An electronics issue is suspected to be preventing the sensors from sharing their data about Mars weather with the spacecraft.NASA Engineers Checking InSight\\'s Weather SensorsAugust 24, 2020NASA Engineers Checking InSight\\'s Weather SensorsAn electronics issue is suspected to be preventing the sensors from sharing their data about Mars weather with the spacecraft.A crisply rendered web application can show you where the agency\\'s Mars 2020 mission is right now as it makes its way to the Red Planet for a Feb. 18, 2021, landing.Follow NASA\\'s Perseverance Rover in Real Time on Its Way to MarsAugust 21, 2020Follow NASA\\'s Perseverance Rover in Real Time on Its Way to MarsA crisply rendered web application can show you where the agency\\'s Mars 2020 mission is right now as it makes its way to the Red Planet for a Feb. 18, 2021, landing.The board will assist with analysis of current plans and goals for one of the most difficult missions humanity has ever undertaken.NASA Establishes Board to Initially Review Mars Sample Return PlansAugust 14, 2020NASA Establishes Board to Initially Review Mars Sample Return PlansThe board will assist with analysis of current plans and goals for one of the most difficult missions humanity has ever undertaken.Headed to the Red Planet with the Perseverance rover, the pioneering helicopter is powered up for the first time in interplanetary space as part of a systems check.NASA\\'s Ingenuity Mars Helicopter Recharges Its Batteries in FlightAugust 13, 2020NASA\\'s Ingenuity Mars Helicopter Recharges Its Batteries in FlightHeaded to the Red Planet with the Perseverance rover, the pioneering helicopter is powered up for the first time in interplanetary space as part of a systems check.Marking its 15th anniversary since launch, one of the oldest spacecraft at the Red Planet has provided glimpses of dust devils, avalanches, and more.Celebrate Mars Reconnaissance Orbiter\\'s Views From AboveAugust 12, 2020Celebrate Mars Reconnaissance Orbiter\\'s Views From AboveMarking its 15th anniversary since launch, one of the oldest spacecraft at the Red Planet has provided glimpses of dust devils, avalanches, and more.Vast areas of the Martian night sky pulse in ultraviolet light, according to images from NASA’s MAVEN spacecraft. The results are being used to illuminate complex circulation patterns in the Martian atmosphere.NASA\\'s MAVEN Observes Martian Night Sky Pulsing in Ultraviolet LightAugust  6, 2020NASA\\'s MAVEN Observes Martian Night Sky Pulsing in Ultraviolet LightVast areas of the Martian night sky pulse in ultraviolet light, according to images from NASA’s MAVEN spacecraft. The results are being used to illuminate complex circulation patterns in the Martian atmosphere.The NASA rover touched down eight years ago, on Aug. 5, 2012, and will soon be joined by a second rover, Perseverance.8 Martian Postcards to Celebrate Curiosity\\'s Landing AnniversaryAugust  3, 20208 Martian Postcards to Celebrate Curiosity\\'s Landing AnniversaryThe NASA rover touched down eight years ago, on Aug. 5, 2012, and will soon be joined by a second rover, Perseverance.The agency\\'s Mars 2020 mission is on its way. It will land at Jezero Crater in about seven months, on Feb. 18, 2021. NASA, ULA Launch Mars 2020 Perseverance Rover Mission to Red PlanetJuly 30, 2020NASA, ULA Launch Mars 2020 Perseverance Rover Mission to Red PlanetThe agency\\'s Mars 2020 mission is on its way. It will land at Jezero Crater in about seven months, on Feb. 18, 2021. In a Q&A, spacesuit designer Amy Ross explains how five samples, including a piece of helmet visor, will be tested aboard the rover, which is targeting a July 30 launch. NASA\\'s Perseverance Rover Will Carry First Spacesuit Materials to MarsJuly 28, 2020NASA\\'s Perseverance Rover Will Carry First Spacesuit Materials to MarsIn a Q&A, spacesuit designer Amy Ross explains how five samples, including a piece of helmet visor, will be tested aboard the rover, which is targeting a July 30 launch. With a targeted launch date of July 30, the next robotic scientist NASA is sending to the to the Red Planet has big ambitions.A New Video Captures the Science of NASA\\'s Perseverance Mars RoverJuly 27, 2020A New Video Captures the Science of NASA\\'s Perseverance Mars RoverWith a targeted launch date of July 30, the next robotic scientist NASA is sending to the to the Red Planet has big ambitions.There are lots of ways to participate in the historic event, which is targeted for July 30.NASA Invites Public to Share Excitement of Mars 2020 Perseverance Rover LaunchJuly 23, 2020NASA Invites Public to Share Excitement of Mars 2020 Perseverance Rover LaunchThere are lots of ways to participate in the historic event, which is targeted for July 30.\\u200bThe agency\\'s Mars 2020 mission has one more big prelaunch review – the Launch Readiness Review, on July 27.NASA\\'s Mars Perseverance Rover Passes Flight Readiness ReviewJuly 22, 2020NASA\\'s Mars Perseverance Rover Passes Flight Readiness Review\\u200bThe agency\\'s Mars 2020 mission has one more big prelaunch review – the Launch Readiness Review, on July 27.Starting July 27, news activities will cover everything from mission engineering and science to returning samples from Mars to, of course, the launch itself.NASA to Broadcast Mars 2020 Perseverance Launch, Prelaunch ActivitiesJuly 17, 2020NASA to Broadcast Mars 2020 Perseverance Launch, Prelaunch ActivitiesStarting July 27, news activities will cover everything from mission engineering and science to returning samples from Mars to, of course, the launch itself.The first helicopter attempting to fly on another planet is a marvel of engineering. Get up to speed with these key facts about its plans.6 Things to Know About NASA\\'s Ingenuity Mars HelicopterJuly 14, 20206 Things to Know About NASA\\'s Ingenuity Mars HelicopterThe first helicopter attempting to fly on another planet is a marvel of engineering. Get up to speed with these key facts about its plans.No matter where you live, choose from a menu of activities to join NASA as we \"Countdown to Mars\" and launch the Perseverance rover to the Red Planet.Join NASA for the Launch of the Mars 2020 Perseverance RoverJuly 10, 2020Join NASA for the Launch of the Mars 2020 Perseverance RoverNo matter where you live, choose from a menu of activities to join NASA as we \"Countdown to Mars\" and launch the Perseverance rover to the Red Planet.Ready for its launch later in the month, the Mars-bound rover will touch terra firma no more.NASA\\'s Perseverance Rover Attached to Atlas V RocketJuly  9, 2020NASA\\'s Perseverance Rover Attached to Atlas V RocketReady for its launch later in the month, the Mars-bound rover will touch terra firma no more.NASA\\'s next rover to the Red Planet is slated to launch no earlier than July 30. These highlights will get you up to speed on the ambitious mission.7 Things to Know About the Mars 2020 Perseverance Rover MissionJuly  8, 20207 Things to Know About the Mars 2020 Perseverance Rover MissionNASA\\'s next rover to the Red Planet is slated to launch no earlier than July 30. These highlights will get you up to speed on the ambitious mission.Now that the lander\\'s robotic arm has helped the mole get underground, it will resume science activities that have been on hold.NASA\\'s InSight Flexes Its Arm While Its \\'Mole\\' Hits PauseJuly  7, 2020NASA\\'s InSight Flexes Its Arm While Its \\'Mole\\' Hits PauseNow that the lander\\'s robotic arm has helped the mole get underground, it will resume science activities that have been on hold.After more than a year in the \"clay-bearing unit,\" Curiosity is making a mile-long journey around some deep sand so that it can explore higher up Mount Sharp.Curiosity Mars Rover\\'s Summer Road Trip Has BegunJuly  6, 2020Curiosity Mars Rover\\'s Summer Road Trip Has BegunAfter more than a year in the \"clay-bearing unit,\" Curiosity is making a mile-long journey around some deep sand so that it can explore higher up Mount Sharp.The small craft will seek to prove that powered, controlled flight is possible on another planet. But just getting it onto the surface of Mars will take a whole lot of ingenuity.How NASA\\'s Mars Helicopter Will Reach the Red Planet\\'s SurfaceJune 23, 2020How NASA\\'s Mars Helicopter Will Reach the Red Planet\\'s SurfaceThe small craft will seek to prove that powered, controlled flight is possible on another planet. But just getting it onto the surface of Mars will take a whole lot of ingenuity.The Red Planet\\'s surface has been visited by eight NASA spacecraft. The ninth will be the first that includes a roundtrip ticket in its flight plan. The Launch Is Approaching for NASA\\'s Next Mars Rover, PerseveranceJune 17, 2020The Launch Is Approaching for NASA\\'s Next Mars Rover, PerseveranceThe Red Planet\\'s surface has been visited by eight NASA spacecraft. The ninth will be the first that includes a roundtrip ticket in its flight plan. Learn more about the agency\\'s next Red Planet mission during a live event on June 17.NASA to Hold Mars 2020 Perseverance Rover Launch BriefingJune 15, 2020NASA to Hold Mars 2020 Perseverance Rover Launch BriefingLearn more about the agency\\'s next Red Planet mission during a live event on June 17.This new portrait of the Red Planet\\'s neighbors was taken during a time when there\\'s more dust in the air on Mars.While Stargazing on Mars, NASA\\'s Curiosity Rover Spots Earth and VenusJune 15, 2020While Stargazing on Mars, NASA\\'s Curiosity Rover Spots Earth and VenusThis new portrait of the Red Planet\\'s neighbors was taken during a time when there\\'s more dust in the air on Mars.Using an online tool to label Martian terrain types, you can train an artificial intelligence algorithm that could improve the way engineers guide the Curiosity rover.NASA\\'s Mars Rover Drivers Need Your HelpJune 12, 2020NASA\\'s Mars Rover Drivers Need Your HelpUsing an online tool to label Martian terrain types, you can train an artificial intelligence algorithm that could improve the way engineers guide the Curiosity rover.Taken with the infrared camera aboard NASA\\'s Odyssey orbiter, they reveal temperature variations on the small moon as it drifts into and out of Mars’ shadow.Three New Views of Mars\\' Moon PhobosJune  8, 2020Three New Views of Mars\\' Moon PhobosTaken with the infrared camera aboard NASA\\'s Odyssey orbiter, they reveal temperature variations on the small moon as it drifts into and out of Mars’ shadow.Two astronauts collected Moon rocks on Apollo 11. It will take three robotic systems working together to gather up the first Mars rock samples for return to Earth.The Extraordinary Sample-Gathering System of NASA\\'s Perseverance Mars RoverJune  2, 2020The Extraordinary Sample-Gathering System of NASA\\'s Perseverance Mars RoverTwo astronauts collected Moon rocks on Apollo 11. It will take three robotic systems working together to gather up the first Mars rock samples for return to Earth.An instrument called SHERLOC will, with the help of its partner WATSON, hunt for signs of ancient life by detecting organic molecules and minerals.The Detective Aboard NASA\\'s Perseverance RoverMay 26, 2020The Detective Aboard NASA\\'s Perseverance RoverAn instrument called SHERLOC will, with the help of its partner WATSON, hunt for signs of ancient life by detecting organic molecules and minerals.Five years after NASA’s MAVEN spacecraft entered into orbit around Mars, data from the mission has led to the creation of a map of electric current systems in the Martian atmosphere.MAVEN Maps Electric Currents around Mars that are Fundamental to Atmospheric LossMay 25, 2020MAVEN Maps Electric Currents around Mars that are Fundamental to Atmospheric LossFive years after NASA’s MAVEN spacecraft entered into orbit around Mars, data from the mission has led to the creation of a map of electric current systems in the Martian atmosphere.A NASA Wallops Flight Facility cargo plane transported more than two tons of equipment — including the rover\\'s sample collection tubes — to Florida for this summer\\'s liftoff.Air Deliveries Bring NASA\\'s Perseverance Mars Rover Closer to LaunchMay 21, 2020Air Deliveries Bring NASA\\'s Perseverance Mars Rover Closer to LaunchA NASA Wallops Flight Facility cargo plane transported more than two tons of equipment — including the rover\\'s sample collection tubes — to Florida for this summer\\'s liftoff.Winners include the JPL-managed \"Send Your Name to Mars\" campaign, NASA\\'s Global Climate Change website and Solar System Interactive.NASA Wins 4 Webbys, 4 People\\'s Voice AwardsMay 19, 2020NASA Wins 4 Webbys, 4 People\\'s Voice AwardsWinners include the JPL-managed \"Send Your Name to Mars\" campaign, NASA\\'s Global Climate Change website and Solar System Interactive.The agency\\'s new Mars rover is put through a series of tests in vacuum chambers, acoustic chambers and more to get ready for the Red Planet.NASA\\'s Perseverance Rover Goes Through Trials by Fire, Ice, Light and SoundMay 18, 2020NASA\\'s Perseverance Rover Goes Through Trials by Fire, Ice, Light and SoundThe agency\\'s new Mars rover is put through a series of tests in vacuum chambers, acoustic chambers and more to get ready for the Red Planet.Stacking spacecraft components on top of each other is one of the final assembly steps before a mission launches to the Red Planet. NASA\\'s Perseverance Rover Mission Getting in Shape for LaunchMay  7, 2020NASA\\'s Perseverance Rover Mission Getting in Shape for LaunchStacking spacecraft components on top of each other is one of the final assembly steps before a mission launches to the Red Planet. Team members searched for signs of ancient microscopic life there, just as NASA\\'s latest rover will on the Red Planet next year.NASA Perseverance Mars Rover Scientists Train in the Nevada DesertMay  6, 2020NASA Perseverance Mars Rover Scientists Train in the Nevada DesertTeam members searched for signs of ancient microscopic life there, just as NASA\\'s latest rover will on the Red Planet next year.A pair of zoomable cameras will help scientists and rover drivers with high-resolution color images.NASA\\'s Perseverance Rover Will Look at Mars Through These \\'Eyes\\'May  1, 2020NASA\\'s Perseverance Rover Will Look at Mars Through These \\'Eyes\\'A pair of zoomable cameras will help scientists and rover drivers with high-resolution color images.These are the scientists and engineers who built NASA\\'s next Mars rover and who will guide it to a safe landing in Jezero Crater. Meet the People Behind NASA\\'s Perseverance RoverApril 30, 2020Meet the People Behind NASA\\'s Perseverance RoverThese are the scientists and engineers who built NASA\\'s next Mars rover and who will guide it to a safe landing in Jezero Crater. As a longtime fan of space exploration, Vaneeza Rupani appreciates the creativity and collaboration involved with trying to fly on another planet.Q&A with the Student Who Named Ingenuity, NASA\\'s Mars HelicopterApril 29, 2020Q&A with the Student Who Named Ingenuity, NASA\\'s Mars HelicopterAs a longtime fan of space exploration, Vaneeza Rupani appreciates the creativity and collaboration involved with trying to fly on another planet.'"
      ]
     },
     "execution_count": 12,
     "metadata": {},
     "output_type": "execute_result"
    }
   ],
   "source": [
    "# Extracts the latest news paragraph #Returns paragraph in JN but when web scraped: AttributeError: 'NoneType' object has no attribute 'text'\n",
    "newsp = soup.find('ul', class_='item_list').text\n",
    "newsp"
   ]
  },
  {
   "cell_type": "markdown",
   "metadata": {},
   "source": [
    "## JPL Featured Space Image"
   ]
  },
  {
   "cell_type": "code",
   "execution_count": 13,
   "metadata": {},
   "outputs": [],
   "source": [
    "# Use Splinter to navigate the following site and find the image\n",
    "image_url = 'https://www.jpl.nasa.gov/spaceimages/?search=&category=Mars'\n",
    "browser.visit(image_url)"
   ]
  },
  {
   "cell_type": "code",
   "execution_count": 14,
   "metadata": {},
   "outputs": [],
   "source": [
    "time.sleep(2)"
   ]
  },
  {
   "cell_type": "code",
   "execution_count": 15,
   "metadata": {},
   "outputs": [],
   "source": [
    "browser.find_by_id('full_image').click()"
   ]
  },
  {
   "cell_type": "code",
   "execution_count": 16,
   "metadata": {},
   "outputs": [
    {
     "name": "stderr",
     "output_type": "stream",
     "text": [
      "/Users/LmH80/.conda/envs/PythonData/lib/python3.7/site-packages/splinter/driver/webdriver/__init__.py:493: FutureWarning: browser.find_link_by_partial_text is deprecated. Use browser.links.find_by_partial_text instead.\n",
      "  FutureWarning,\n"
     ]
    }
   ],
   "source": [
    "browser.click_link_by_partial_text('more info')"
   ]
  },
  {
   "cell_type": "code",
   "execution_count": 17,
   "metadata": {},
   "outputs": [
    {
     "data": {
      "text/plain": [
       "'https://www.jpl.nasa.gov/spaceimages/images/largesize/PIA13664_hires.jpg'"
      ]
     },
     "execution_count": 17,
     "metadata": {},
     "output_type": "execute_result"
    }
   ],
   "source": [
    "featured_image = browser.find_by_css('img.main_image')['src']\n",
    "featured_image"
   ]
  },
  {
   "cell_type": "markdown",
   "metadata": {},
   "source": [
    "## Mars Facts"
   ]
  },
  {
   "cell_type": "code",
   "execution_count": 18,
   "metadata": {},
   "outputs": [],
   "source": [
    "facts_url = 'https://space-facts.com/mars/'\n",
    "browser.visit(facts_url)"
   ]
  },
  {
   "cell_type": "code",
   "execution_count": 19,
   "metadata": {},
   "outputs": [
    {
     "data": {
      "text/html": [
       "<div>\n",
       "<style scoped>\n",
       "    .dataframe tbody tr th:only-of-type {\n",
       "        vertical-align: middle;\n",
       "    }\n",
       "\n",
       "    .dataframe tbody tr th {\n",
       "        vertical-align: top;\n",
       "    }\n",
       "\n",
       "    .dataframe thead th {\n",
       "        text-align: right;\n",
       "    }\n",
       "</style>\n",
       "<table border=\"1\" class=\"dataframe\">\n",
       "  <thead>\n",
       "    <tr style=\"text-align: right;\">\n",
       "      <th></th>\n",
       "      <th>Value</th>\n",
       "    </tr>\n",
       "    <tr>\n",
       "      <th>Mars Planet</th>\n",
       "      <th></th>\n",
       "    </tr>\n",
       "  </thead>\n",
       "  <tbody>\n",
       "    <tr>\n",
       "      <th>Equatorial Diameter:</th>\n",
       "      <td>6,792 km</td>\n",
       "    </tr>\n",
       "    <tr>\n",
       "      <th>Polar Diameter:</th>\n",
       "      <td>6,752 km</td>\n",
       "    </tr>\n",
       "    <tr>\n",
       "      <th>Mass:</th>\n",
       "      <td>6.39 × 10^23 kg (0.11 Earths)</td>\n",
       "    </tr>\n",
       "    <tr>\n",
       "      <th>Moons:</th>\n",
       "      <td>2 (Phobos &amp; Deimos)</td>\n",
       "    </tr>\n",
       "    <tr>\n",
       "      <th>Orbit Distance:</th>\n",
       "      <td>227,943,824 km (1.38 AU)</td>\n",
       "    </tr>\n",
       "    <tr>\n",
       "      <th>Orbit Period:</th>\n",
       "      <td>687 days (1.9 years)</td>\n",
       "    </tr>\n",
       "    <tr>\n",
       "      <th>Surface Temperature:</th>\n",
       "      <td>-87 to -5 °C</td>\n",
       "    </tr>\n",
       "    <tr>\n",
       "      <th>First Record:</th>\n",
       "      <td>2nd millennium BC</td>\n",
       "    </tr>\n",
       "    <tr>\n",
       "      <th>Recorded By:</th>\n",
       "      <td>Egyptian astronomers</td>\n",
       "    </tr>\n",
       "  </tbody>\n",
       "</table>\n",
       "</div>"
      ],
      "text/plain": [
       "                                              Value\n",
       "Mars Planet                                        \n",
       "Equatorial Diameter:                       6,792 km\n",
       "Polar Diameter:                            6,752 km\n",
       "Mass:                 6.39 × 10^23 kg (0.11 Earths)\n",
       "Moons:                          2 (Phobos & Deimos)\n",
       "Orbit Distance:            227,943,824 km (1.38 AU)\n",
       "Orbit Period:                  687 days (1.9 years)\n",
       "Surface Temperature:                   -87 to -5 °C\n",
       "First Record:                     2nd millennium BC\n",
       "Recorded By:                   Egyptian astronomers"
      ]
     },
     "execution_count": 19,
     "metadata": {},
     "output_type": "execute_result"
    }
   ],
   "source": [
    "# Use Pandas to scrape the table containing facts about the planet including diameter, mass, etc\n",
    "\n",
    "f_table = pd.read_html(facts_url)\n",
    "df = f_table[0]\n",
    "df.columns = ['Mars Planet', 'Value']\n",
    "df.set_index(['Mars Planet'], inplace = True)\n",
    "df.to_html('Mars_df.html')\n",
    "df"
   ]
  },
  {
   "cell_type": "code",
   "execution_count": 20,
   "metadata": {},
   "outputs": [],
   "source": [
    "# Use Pandas to convert the data to a HTML table string.\n",
    "mars_fact = df.to_html(classes='table table-striped')"
   ]
  },
  {
   "cell_type": "code",
   "execution_count": 21,
   "metadata": {},
   "outputs": [
    {
     "data": {
      "text/plain": [
       "'<table border=\"1\" class=\"dataframe table table-striped\">\\n  <thead>\\n    <tr style=\"text-align: right;\">\\n      <th></th>\\n      <th>Value</th>\\n    </tr>\\n    <tr>\\n      <th>Mars Planet</th>\\n      <th></th>\\n    </tr>\\n  </thead>\\n  <tbody>\\n    <tr>\\n      <th>Equatorial Diameter:</th>\\n      <td>6,792 km</td>\\n    </tr>\\n    <tr>\\n      <th>Polar Diameter:</th>\\n      <td>6,752 km</td>\\n    </tr>\\n    <tr>\\n      <th>Mass:</th>\\n      <td>6.39 × 10^23 kg (0.11 Earths)</td>\\n    </tr>\\n    <tr>\\n      <th>Moons:</th>\\n      <td>2 (Phobos &amp; Deimos)</td>\\n    </tr>\\n    <tr>\\n      <th>Orbit Distance:</th>\\n      <td>227,943,824 km (1.38 AU)</td>\\n    </tr>\\n    <tr>\\n      <th>Orbit Period:</th>\\n      <td>687 days (1.9 years)</td>\\n    </tr>\\n    <tr>\\n      <th>Surface Temperature:</th>\\n      <td>-87 to -5 °C</td>\\n    </tr>\\n    <tr>\\n      <th>First Record:</th>\\n      <td>2nd millennium BC</td>\\n    </tr>\\n    <tr>\\n      <th>Recorded By:</th>\\n      <td>Egyptian astronomers</td>\\n    </tr>\\n  </tbody>\\n</table>'"
      ]
     },
     "execution_count": 21,
     "metadata": {},
     "output_type": "execute_result"
    }
   ],
   "source": [
    "mars_fact"
   ]
  },
  {
   "cell_type": "markdown",
   "metadata": {},
   "source": [
    "## Mars Hemispheres"
   ]
  },
  {
   "cell_type": "code",
   "execution_count": 22,
   "metadata": {},
   "outputs": [],
   "source": [
    "astro_url = 'https://astrogeology.usgs.gov/search/results?q=hemisphere+enhanced&k1=target&v1=Mars'\n",
    "browser.visit(astro_url)"
   ]
  },
  {
   "cell_type": "code",
   "execution_count": 23,
   "metadata": {},
   "outputs": [],
   "source": [
    "time.sleep(2)"
   ]
  },
  {
   "cell_type": "code",
   "execution_count": 24,
   "metadata": {},
   "outputs": [],
   "source": [
    "links = browser.find_by_css('a.product-item h3')"
   ]
  },
  {
   "cell_type": "code",
   "execution_count": null,
   "metadata": {},
   "outputs": [],
   "source": [
    "hemi_img_urls = []\n",
    "\n",
    "for i in range(len(links)):\n",
    "    hemi = {}\n",
    "    \n",
    "    browser.find_by_css('a.product-item h3')[i].click()\n",
    "    hemi['img_url'] = browser.find_by_text('Sample')['href']\n",
    "    hemi['title'] = browser.find_by_css('h2.title').text\n",
    "    \n",
    "    hemi_img_urls.append(hemi)\n",
    "    browser.back()\n",
    "\n",
    "hemi_img_urls"
   ]
  },
  {
   "cell_type": "code",
   "execution_count": null,
   "metadata": {},
   "outputs": [],
   "source": []
  }
 ],
 "metadata": {
  "kernelspec": {
   "display_name": "PythonData",
   "language": "python",
   "name": "pythondata"
  },
  "language_info": {
   "codemirror_mode": {
    "name": "ipython",
    "version": 3
   },
   "file_extension": ".py",
   "mimetype": "text/x-python",
   "name": "python",
   "nbconvert_exporter": "python",
   "pygments_lexer": "ipython3",
   "version": "3.7.7"
  },
  "varInspector": {
   "cols": {
    "lenName": 16,
    "lenType": 16,
    "lenVar": 40
   },
   "kernels_config": {
    "python": {
     "delete_cmd_postfix": "",
     "delete_cmd_prefix": "del ",
     "library": "var_list.py",
     "varRefreshCmd": "print(var_dic_list())"
    },
    "r": {
     "delete_cmd_postfix": ") ",
     "delete_cmd_prefix": "rm(",
     "library": "var_list.r",
     "varRefreshCmd": "cat(var_dic_list()) "
    }
   },
   "types_to_exclude": [
    "module",
    "function",
    "builtin_function_or_method",
    "instance",
    "_Feature"
   ],
   "window_display": false
  }
 },
 "nbformat": 4,
 "nbformat_minor": 2
}
